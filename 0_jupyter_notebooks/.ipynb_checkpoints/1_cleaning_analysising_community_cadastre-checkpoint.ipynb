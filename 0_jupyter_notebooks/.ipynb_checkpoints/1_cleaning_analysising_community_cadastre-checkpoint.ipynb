{
 "cells": [
  {
   "cell_type": "markdown",
   "id": "8fb87102",
   "metadata": {},
   "source": [
    "# Data Cleaning (Notebook 1 of 4) "
   ]
  },
  {
   "cell_type": "code",
   "execution_count": 3,
   "id": "5356b420",
   "metadata": {},
   "outputs": [],
   "source": [
    "# Importing libraries\n",
    "import pandas as pd\n",
    "import seaborn as sns\n",
    "import numpy as np\n",
    "import matplotlib.pyplot as plt\n",
    "from sklearn.cluster import KMeans\n",
    "from mpl_toolkits.mplot3d import Axes3D"
   ]
  },
  {
   "cell_type": "code",
   "execution_count": 6,
   "id": "38ea39ce",
   "metadata": {},
   "outputs": [
    {
     "data": {
      "text/html": [
       "<div>\n",
       "<style scoped>\n",
       "    .dataframe tbody tr th:only-of-type {\n",
       "        vertical-align: middle;\n",
       "    }\n",
       "\n",
       "    .dataframe tbody tr th {\n",
       "        vertical-align: top;\n",
       "    }\n",
       "\n",
       "    .dataframe thead th {\n",
       "        text-align: right;\n",
       "    }\n",
       "</style>\n",
       "<table border=\"1\" class=\"dataframe\">\n",
       "  <thead>\n",
       "    <tr style=\"text-align: right;\">\n",
       "      <th></th>\n",
       "      <th>osm_id</th>\n",
       "      <th>ncc_owned</th>\n",
       "      <th>osm_way_id</th>\n",
       "      <th>house_area</th>\n",
       "      <th>house_peri</th>\n",
       "      <th>house_vert</th>\n",
       "      <th>private</th>\n",
       "      <th>house_lati</th>\n",
       "      <th>NATIONALCA</th>\n",
       "      <th>land_area</th>\n",
       "      <th>land_perim</th>\n",
       "      <th>land_verti</th>\n",
       "      <th>land_longi</th>\n",
       "      <th>land_latit</th>\n",
       "      <th>COUNT</th>\n",
       "      <th>house_long</th>\n",
       "      <th>b2lpercent</th>\n",
       "    </tr>\n",
       "  </thead>\n",
       "  <tbody>\n",
       "    <tr>\n",
       "      <th>0</th>\n",
       "      <td>35546036</td>\n",
       "      <td>1</td>\n",
       "      <td>35546036</td>\n",
       "      <td>65</td>\n",
       "      <td>35</td>\n",
       "      <td>7</td>\n",
       "      <td>yes</td>\n",
       "      <td>6.971770e+06</td>\n",
       "      <td>NaN</td>\n",
       "      <td>65.0</td>\n",
       "      <td>35.0</td>\n",
       "      <td>7.0</td>\n",
       "      <td>-128246.3195</td>\n",
       "      <td>6.971771e+06</td>\n",
       "      <td>4</td>\n",
       "      <td>-128248.80</td>\n",
       "      <td>100.0</td>\n",
       "    </tr>\n",
       "    <tr>\n",
       "      <th>1</th>\n",
       "      <td>35546037</td>\n",
       "      <td>1</td>\n",
       "      <td>35546037</td>\n",
       "      <td>65</td>\n",
       "      <td>34</td>\n",
       "      <td>8</td>\n",
       "      <td>yes</td>\n",
       "      <td>6.971743e+06</td>\n",
       "      <td>NaN</td>\n",
       "      <td>65.0</td>\n",
       "      <td>35.0</td>\n",
       "      <td>8.0</td>\n",
       "      <td>-128272.9071</td>\n",
       "      <td>6.971744e+06</td>\n",
       "      <td>4</td>\n",
       "      <td>-128275.85</td>\n",
       "      <td>100.0</td>\n",
       "    </tr>\n",
       "    <tr>\n",
       "      <th>2</th>\n",
       "      <td>35551461</td>\n",
       "      <td>1</td>\n",
       "      <td>35551461</td>\n",
       "      <td>65</td>\n",
       "      <td>35</td>\n",
       "      <td>7</td>\n",
       "      <td>yes</td>\n",
       "      <td>6.971805e+06</td>\n",
       "      <td>NaN</td>\n",
       "      <td>62.0</td>\n",
       "      <td>34.0</td>\n",
       "      <td>8.0</td>\n",
       "      <td>-128283.5621</td>\n",
       "      <td>6.971806e+06</td>\n",
       "      <td>4</td>\n",
       "      <td>-128286.18</td>\n",
       "      <td>105.0</td>\n",
       "    </tr>\n",
       "    <tr>\n",
       "      <th>3</th>\n",
       "      <td>35551462</td>\n",
       "      <td>1</td>\n",
       "      <td>35551462</td>\n",
       "      <td>66</td>\n",
       "      <td>34</td>\n",
       "      <td>8</td>\n",
       "      <td>yes</td>\n",
       "      <td>6.971754e+06</td>\n",
       "      <td>29324493.0</td>\n",
       "      <td>207.0</td>\n",
       "      <td>62.0</td>\n",
       "      <td>12.0</td>\n",
       "      <td>-128367.6972</td>\n",
       "      <td>6.971752e+06</td>\n",
       "      <td>1</td>\n",
       "      <td>-128372.04</td>\n",
       "      <td>32.0</td>\n",
       "    </tr>\n",
       "    <tr>\n",
       "      <th>4</th>\n",
       "      <td>35551463</td>\n",
       "      <td>1</td>\n",
       "      <td>35551463</td>\n",
       "      <td>72</td>\n",
       "      <td>35</td>\n",
       "      <td>9</td>\n",
       "      <td>yes</td>\n",
       "      <td>6.971806e+06</td>\n",
       "      <td>NaN</td>\n",
       "      <td>63.0</td>\n",
       "      <td>35.0</td>\n",
       "      <td>8.0</td>\n",
       "      <td>-128339.0663</td>\n",
       "      <td>6.971806e+06</td>\n",
       "      <td>4</td>\n",
       "      <td>-128340.80</td>\n",
       "      <td>114.0</td>\n",
       "    </tr>\n",
       "  </tbody>\n",
       "</table>\n",
       "</div>"
      ],
      "text/plain": [
       "     osm_id  ncc_owned  osm_way_id  house_area  house_peri  house_vert  \\\n",
       "0  35546036          1    35546036          65          35           7   \n",
       "1  35546037          1    35546037          65          34           8   \n",
       "2  35551461          1    35551461          65          35           7   \n",
       "3  35551462          1    35551462          66          34           8   \n",
       "4  35551463          1    35551463          72          35           9   \n",
       "\n",
       "  private    house_lati  NATIONALCA  land_area  land_perim  land_verti  \\\n",
       "0     yes  6.971770e+06         NaN       65.0        35.0         7.0   \n",
       "1     yes  6.971743e+06         NaN       65.0        35.0         8.0   \n",
       "2     yes  6.971805e+06         NaN       62.0        34.0         8.0   \n",
       "3     yes  6.971754e+06  29324493.0      207.0        62.0        12.0   \n",
       "4     yes  6.971806e+06         NaN       63.0        35.0         8.0   \n",
       "\n",
       "    land_longi    land_latit  COUNT  house_long  b2lpercent  \n",
       "0 -128246.3195  6.971771e+06      4  -128248.80       100.0  \n",
       "1 -128272.9071  6.971744e+06      4  -128275.85       100.0  \n",
       "2 -128283.5621  6.971806e+06      4  -128286.18       105.0  \n",
       "3 -128367.6972  6.971752e+06      1  -128372.04        32.0  \n",
       "4 -128339.0663  6.971806e+06      4  -128340.80       114.0  "
      ]
     },
     "execution_count": 6,
     "metadata": {},
     "output_type": "execute_result"
    }
   ],
   "source": [
    "# Loading csv file\n",
    "data = pd.read_csv('../1_raw_data/cadastre.csv')\n",
    "data.head(5)"
   ]
  },
  {
   "cell_type": "code",
   "execution_count": null,
   "id": "206b0531",
   "metadata": {},
   "outputs": [],
   "source": [
    "# Removing rows without values of 'NationalCA' and 'osm_way_id' - to ensure each polygon is associated with a building and / or piece of land\n",
    "data = data[ ~  (data['NATIONALCA'].isna())  ]\n",
    "data = data[ ~  (data['osm_way_id'].isna())  ]\n",
    "data.head(5)"
   ]
  },
  {
   "cell_type": "code",
   "execution_count": null,
   "id": "d2b1d4ca",
   "metadata": {
    "scrolled": true
   },
   "outputs": [],
   "source": [
    "# Filling in empty values with 'no'\n",
    "index = data['private'] == 'yes'\n",
    "data['private'][~index] = \"no\"\n",
    "data.head(5)"
   ]
  },
  {
   "cell_type": "code",
   "execution_count": null,
   "id": "2db69f6c",
   "metadata": {},
   "outputs": [],
   "source": [
    "# Copying data to the dataframe variable \n",
    "df = data.copy()"
   ]
  },
  {
   "cell_type": "code",
   "execution_count": null,
   "id": "ef1fdb79",
   "metadata": {},
   "outputs": [],
   "source": [
    "# Visualing the data for inspection\n",
    "df.style.background_gradient(\"coolwarm\")"
   ]
  },
  {
   "cell_type": "code",
   "execution_count": null,
   "id": "9f8dabb8",
   "metadata": {},
   "outputs": [],
   "source": [
    "# Box plot of house_area column to see the spread of house_area values\n",
    "plt.figure(figsize=(12,6),dpi=300)\n",
    "sns.boxplot(data = df, x = 'house_area')\n",
    "plt.show()"
   ]
  },
  {
   "cell_type": "code",
   "execution_count": null,
   "id": "a15b1ff7",
   "metadata": {
    "scrolled": true
   },
   "outputs": [],
   "source": [
    "# Violin plot of house area column to see spread of house_area\n",
    "sns.violinplot(data = df, x = 'house_area')"
   ]
  },
  {
   "cell_type": "code",
   "execution_count": null,
   "id": "218cb2ff",
   "metadata": {
    "scrolled": false
   },
   "outputs": [],
   "source": [
    "# Statistical details of each feature\n",
    "df.describe().transpose()"
   ]
  },
  {
   "cell_type": "code",
   "execution_count": null,
   "id": "33b156e3",
   "metadata": {
    "scrolled": true
   },
   "outputs": [],
   "source": [
    "# Datatypes and the shape of each column of the dataframe\n",
    "df.info()"
   ]
  },
  {
   "cell_type": "code",
   "execution_count": null,
   "id": "01235f13",
   "metadata": {},
   "outputs": [],
   "source": [
    "# Column names for features (x) and for the target (y)\n",
    "x_index = ['land_area','land_perim', 'land_verti', 'land_longi', 'land_latit','house_area', 'house_peri', 'house_vert', 'house_long',\n",
    "       'house_lati', 'b2lpercent' ]\n",
    "y_index = ['building']"
   ]
  },
  {
   "cell_type": "code",
   "execution_count": null,
   "id": "b1d0ddcd",
   "metadata": {},
   "outputs": [],
   "source": [
    "# Analysing the correlation of the selected features of data\n",
    "corr_data = df[x_index].corr()\n",
    "corr_data.style.background_gradient(\"coolwarm\")"
   ]
  },
  {
   "cell_type": "code",
   "execution_count": null,
   "id": "c4126bf6",
   "metadata": {
    "scrolled": true
   },
   "outputs": [],
   "source": [
    "# Feature correlation heatmap\n",
    "sns.heatmap(df[x_index].corr())"
   ]
  },
  {
   "cell_type": "code",
   "execution_count": null,
   "id": "2279a80f",
   "metadata": {},
   "outputs": [],
   "source": [
    "# Returning pairs of highly correlated variables (later we found this is not useful)\n",
    "corr_matrix = df.corr()\n",
    "\n",
    "threshold = 0.8\n",
    "high_corr_var = []\n",
    "\n",
    "# Iterate over the correlation matrix\n",
    "for i in range(len(corr_matrix.columns)):\n",
    "    for j in range(i):\n",
    "        if abs(corr_matrix.iloc[i, j]) > threshold and abs(corr_matrix.iloc[i, j]) < 1:\n",
    "            colname = corr_matrix.columns[i], corr_matrix.columns[j]\n",
    "            high_corr_var.append(colname)\n",
    "\n",
    "print(high_corr_var)\n"
   ]
  },
  {
   "cell_type": "code",
   "execution_count": null,
   "id": "5c22a2be",
   "metadata": {},
   "outputs": [],
   "source": [
    "threshold = 0.8\n",
    "corr_pairs = []\n",
    "\n",
    "# Iterate over the correlation matrix\n",
    "for i in range(len(corr_matrix.columns)):\n",
    "    for j in range(i):\n",
    "        if abs(corr_matrix.iloc[i, j]) > threshold and abs(corr_matrix.iloc[i, j]) < 1:\n",
    "            colname = (corr_matrix.columns[i], corr_matrix.columns[j], corr_matrix.iloc[i, j])\n",
    "            corr_pairs.append(colname)\n",
    "\n",
    "# Sort the pairs by absolute correlation\n",
    "sorted_corr_pairs = sorted(corr_pairs, key=lambda x: abs(x[2]), reverse=True)\n",
    "\n",
    "# Get the top 3 pairs\n",
    "top_3_pairs = sorted_corr_pairs[:3]"
   ]
  },
  {
   "cell_type": "code",
   "execution_count": null,
   "id": "06fca5a4",
   "metadata": {},
   "outputs": [],
   "source": [
    "for pair in top_3_pairs:\n",
    "    print(f\"Columns: {pair[0]}, {pair[1]} - Correlation: {pair[2]:.2f}\")"
   ]
  },
  {
   "cell_type": "code",
   "execution_count": null,
   "id": "69daba3c",
   "metadata": {},
   "outputs": [],
   "source": [
    "# Selecting the columns for clustering based on these threee features\n",
    "X = df[['land_verti', 'land_perim', 'house_area']]\n",
    "X = X.dropna()\n",
    "X = X.reset_index()\n",
    "X"
   ]
  },
  {
   "cell_type": "code",
   "execution_count": null,
   "id": "ab4910aa",
   "metadata": {},
   "outputs": [],
   "source": [
    "# make 5 type of clusters\n",
    "kmeans = KMeans(n_clusters=2)\n",
    "kmeans.fit(X)\n",
    "labels = kmeans.predict(X)\n",
    "X['Cluster'] = labels"
   ]
  },
  {
   "cell_type": "code",
   "execution_count": null,
   "id": "ce1533a5",
   "metadata": {},
   "outputs": [],
   "source": [
    "# 2d plot to see clusters\n",
    "\n",
    "# Initialize a 2D figure\n",
    "fig, ax = plt.subplots(figsize=(8, 6))\n",
    "\n",
    "# Color map\n",
    "colors = plt.cm.jet(np.linspace(0, 1, 5))\n",
    "\n",
    "# Plot each cluster\n",
    "for cluster in range(5):\n",
    "    cluster_data = X[X['Cluster'] == cluster]\n",
    "    ax.scatter(cluster_data['land_verti'], cluster_data['land_perim'], \n",
    "               color=colors[cluster], label=f\"Cluster {cluster}\")\n",
    "\n",
    "# Add labels and title\n",
    "ax.set_xlabel('land_verti')\n",
    "ax.set_ylabel('land_perim')\n",
    "ax.legend()\n",
    "plt.title('2D Clusters')\n",
    "\n",
    "# Show the plot\n",
    "plt.show()"
   ]
  },
  {
   "cell_type": "code",
   "execution_count": null,
   "id": "2fb6370d",
   "metadata": {},
   "outputs": [],
   "source": [
    "#Visualize the clusters in a 3D plot:\n",
    "fig = plt.figure(figsize=(8, 6))\n",
    "ax = fig.add_subplot(111, projection='3d')\n",
    "\n",
    "# Color map\n",
    "colors = plt.cm.jet(np.linspace(0, 1, 5))\n",
    "\n",
    "# Plot each cluster\n",
    "for cluster in range(5):\n",
    "    cluster_data = X[X['Cluster'] == cluster]\n",
    "    ax.scatter(cluster_data['land_verti'], cluster_data['land_perim'], cluster_data['house_area'], \n",
    "               color=colors[cluster], label=f\"Cluster {cluster}\")\n",
    "\n",
    "ax.set_xlabel('land_verti')\n",
    "ax.set_ylabel('land_perim')\n",
    "ax.set_zlabel('house_area')\n",
    "ax.legend()\n",
    "plt.title('3D Clusters')\n",
    "plt.show()"
   ]
  },
  {
   "cell_type": "code",
   "execution_count": null,
   "id": "b41584ff",
   "metadata": {},
   "outputs": [],
   "source": [
    "pip install plotly"
   ]
  },
  {
   "cell_type": "code",
   "execution_count": null,
   "id": "25b960c0",
   "metadata": {
    "scrolled": false
   },
   "outputs": [],
   "source": [
    "# Step 1: Import necessary library\n",
    "import plotly.express as px\n",
    "\n",
    "def plot_3d_clusters(data, x_col, y_col, z_col, cluster_col):\n",
    "    \"\"\"\n",
    "    Plots a 3D scatter plot of given data with clusters visualized.\n",
    "    \n",
    "    Parameters:\n",
    "    - data: DataFrame with the data\n",
    "    - x_col: Name of the column for x-axis\n",
    "    - y_col: Name of the column for y-axis\n",
    "    - z_col: Name of the column for z-axis\n",
    "    - cluster_col: Name of the column with cluster labels\n",
    "    \"\"\"\n",
    "    \n",
    "    # Step 2: Create the 3D scatter plot\n",
    "    fig = px.scatter_3d(data, \n",
    "                        x=x_col, \n",
    "                        y=y_col, \n",
    "                        z=z_col, \n",
    "                        color=cluster_col, \n",
    "                        color_continuous_scale='jet', \n",
    "                        range_color=[data[cluster_col].min(), data[cluster_col].max()])\n",
    "    \n",
    "    # Step 3: Update layout with titles\n",
    "    fig.update_layout(title='3D Clusters', \n",
    "                      scene=dict(xaxis_title=x_col, \n",
    "                                 yaxis_title=y_col, \n",
    "                                 zaxis_title=z_col))\n",
    "    \n",
    "    # Step 4: Show the plot\n",
    "    fig.show()\n",
    "\n",
    "# Call the function\n",
    "plot_3d_clusters(X, 'land_verti', 'land_perim', 'house_area', 'Cluster')"
   ]
  },
  {
   "cell_type": "code",
   "execution_count": null,
   "id": "61185758",
   "metadata": {},
   "outputs": [],
   "source": [
    "# see total number of each kind of cluster values \n",
    "cluster_counts = X['Cluster'].value_counts()\n",
    "print(cluster_counts)"
   ]
  }
 ],
 "metadata": {
  "kernelspec": {
   "display_name": "Python (uf-ml)",
   "language": "python",
   "name": "uf-ml"
  },
  "language_info": {
   "codemirror_mode": {
    "name": "ipython",
    "version": 3
   },
   "file_extension": ".py",
   "mimetype": "text/x-python",
   "name": "python",
   "nbconvert_exporter": "python",
   "pygments_lexer": "ipython3",
   "version": "3.8.12"
  }
 },
 "nbformat": 4,
 "nbformat_minor": 5
}
